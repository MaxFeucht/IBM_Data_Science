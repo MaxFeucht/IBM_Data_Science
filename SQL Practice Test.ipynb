{
    "cells": [
        {
            "cell_type": "markdown",
            "metadata": {},
            "source": "<center>\n    <img src=\"https://s3-api.us-geo.objectstorage.softlayer.net/cf-courses-data/CognitiveClass/Logos/organization_logo/organization_logo.png\" width=\"300\" alt=\"cognitiveclass.ai logo\"  />\n</center>\n\n# Working with a real world data-set using SQL and Python\n\nEstaimted time needed: **30** minutes\n\nName: **Max Emanuel Feucht**\n"
        },
        {
            "cell_type": "markdown",
            "metadata": {},
            "source": "## Chicago Public Schools - Progress Report Cards (2011-2012)\n\nThe city of Chicago released a dataset showing all school level performance data used to create School Report Cards for the 2011-2012 school year. The dataset is available from the Chicago Data Portal: [https://data.cityofchicago.org/Education/Chicago-Public-Schools-Progress-Report-Cards-2011-/9xs2-f89t](https://data.cityofchicago.org/Education/Chicago-Public-Schools-Progress-Report-Cards-2011-/9xs2-f89t?cm_mmc=Email_Newsletter-_-Developer_Ed%2BTech-_-WW_WW-_-SkillsNetwork-Courses-IBMDeveloperSkillsNetwork-DB0201EN-SkillsNetwork-20127838&cm_mmca1=000026UJ&cm_mmca2=10006555&cm_mmca3=M12345678&cvosrc=email.Newsletter.M12345678&cvo_campaign=000026UJ&cm_mmc=Email_Newsletter-_-Developer_Ed%2BTech-_-WW_WW-_-SkillsNetwork-Courses-IBMDeveloperSkillsNetwork-DB0201EN-SkillsNetwork-20127838&cm_mmca1=000026UJ&cm_mmca2=10006555&cm_mmca3=M12345678&cvosrc=email.Newsletter.M12345678&cvo_campaign=000026UJ)\n\nThis dataset includes a large number of metrics. Start by familiarizing yourself with the types of metrics in the database: [https://data.cityofchicago.org/api/assets/AAD41A13-BE8A-4E67-B1F5-86E711E09D5F?download=true](https://data.cityofchicago.org/api/assets/AAD41A13-BE8A-4E67-B1F5-86E711E09D5F?download=true&cm_mmc=Email_Newsletter-_-Developer_Ed%2BTech-_-WW_WW-_-SkillsNetwork-Courses-IBMDeveloperSkillsNetwork-DB0201EN-SkillsNetwork-20127838&cm_mmca1=000026UJ&cm_mmca2=10006555&cm_mmca3=M12345678&cvosrc=email.Newsletter.M12345678&cvo_campaign=000026UJ)\n\n**NOTE**: \n\nDo not download the dataset directly from City of Chicago portal. Instead download a static copy which is a more database friendly version from this <a href=\"https://cf-courses-data.s3.us.cloud-object-storage.appdomain.cloud/IBMDeveloperSkillsNetwork-DB0201EN-SkillsNetwork/labs/FinalModule_edX/data/Chicago_Public_Schools_-_Progress_Report_Cards__2011-2012-v3.csv\">link</a>.\n\nNow review some of its contents.\n"
        },
        {
            "cell_type": "markdown",
            "metadata": {},
            "source": "### Connect to the database\n\nLet us now load the ipython-sql  extension and establish a connection with the database\n"
        },
        {
            "cell_type": "code",
            "execution_count": 1,
            "metadata": {},
            "outputs": [
                {
                    "name": "stderr",
                    "output_type": "stream",
                    "text": "--2020-10-10 19:15:38--  https://raw.githubusercontent.com/DB2-Samples/Db2re/master/db2re.ipynb\nResolving raw.githubusercontent.com (raw.githubusercontent.com)... 151.101.112.133\nConnecting to raw.githubusercontent.com (raw.githubusercontent.com)|151.101.112.133|:443... connected.\nHTTP request sent, awaiting response... 200 OK\nLength: 84942 (83K) [text/plain]\nSaving to: \u2018db2re.ipynb.2\u2019\n\n     0K .......... .......... .......... .......... .......... 60% 18.2M 0s\n    50K .......... .......... .......... ..                   100% 20.6M=0.004s\n\n2020-10-10 19:15:38 (19.1 MB/s) - \u2018db2re.ipynb.2\u2019 saved [84942/84942]\n\n"
                }
            ],
            "source": "%%sh\nwget https://raw.githubusercontent.com/DB2-Samples/Db2re/master/db2re.ipynb"
        },
        {
            "cell_type": "code",
            "execution_count": 2,
            "metadata": {},
            "outputs": [
                {
                    "name": "stdout",
                    "output_type": "stream",
                    "text": "Requirement already satisfied: qgrid in /home/dsxuser/.local/lib/python3.6/site-packages (1.3.1)\nRequirement already satisfied: ipywidgets>=7.0.0 in /opt/conda/envs/Python36/lib/python3.6/site-packages (from qgrid) (7.4.2)\nRequirement already satisfied: pandas>=0.18.0 in /opt/conda/envs/Python36/lib/python3.6/site-packages (from qgrid) (0.24.1)\nRequirement already satisfied: notebook>=4.0.0 in /opt/conda/envs/Python36/lib/python3.6/site-packages (from qgrid) (5.7.8)\nRequirement already satisfied: nbformat>=4.2.0 in /opt/conda/envs/Python36/lib/python3.6/site-packages (from ipywidgets>=7.0.0->qgrid) (4.4.0)\nRequirement already satisfied: ipython>=4.0.0; python_version >= \"3.3\" in /opt/conda/envs/Python36/lib/python3.6/site-packages (from ipywidgets>=7.0.0->qgrid) (7.2.0)\nRequirement already satisfied: widgetsnbextension~=3.4.0 in /opt/conda/envs/Python36/lib/python3.6/site-packages (from ipywidgets>=7.0.0->qgrid) (3.4.2)\nRequirement already satisfied: ipykernel>=4.5.1 in /opt/conda/envs/Python36/lib/python3.6/site-packages (from ipywidgets>=7.0.0->qgrid) (5.1.0)\nRequirement already satisfied: traitlets>=4.3.1 in /opt/conda/envs/Python36/lib/python3.6/site-packages (from ipywidgets>=7.0.0->qgrid) (4.3.2)\nRequirement already satisfied: pytz>=2011k in /opt/conda/envs/Python36/lib/python3.6/site-packages (from pandas>=0.18.0->qgrid) (2018.9)\nRequirement already satisfied: python-dateutil>=2.5.0 in /opt/conda/envs/Python36/lib/python3.6/site-packages (from pandas>=0.18.0->qgrid) (2.7.5)\nRequirement already satisfied: numpy>=1.12.0 in /opt/conda/envs/Python36/lib/python3.6/site-packages (from pandas>=0.18.0->qgrid) (1.15.4)\nRequirement already satisfied: nbconvert in /opt/conda/envs/Python36/lib/python3.6/site-packages (from notebook>=4.0.0->qgrid) (5.4.0)\nRequirement already satisfied: jupyter-client>=5.2.0 in /opt/conda/envs/Python36/lib/python3.6/site-packages (from notebook>=4.0.0->qgrid) (5.2.4)\nRequirement already satisfied: terminado>=0.8.1 in /opt/conda/envs/Python36/lib/python3.6/site-packages (from notebook>=4.0.0->qgrid) (0.8.1)\nRequirement already satisfied: tornado<7,>=4.1 in /opt/conda/envs/Python36/lib/python3.6/site-packages (from notebook>=4.0.0->qgrid) (5.1.1)\nRequirement already satisfied: prometheus-client in /opt/conda/envs/Python36/lib/python3.6/site-packages (from notebook>=4.0.0->qgrid) (0.5.0)\nRequirement already satisfied: ipython-genutils in /opt/conda/envs/Python36/lib/python3.6/site-packages (from notebook>=4.0.0->qgrid) (0.2.0)\nRequirement already satisfied: jinja2 in /opt/conda/envs/Python36/lib/python3.6/site-packages (from notebook>=4.0.0->qgrid) (2.10)\nRequirement already satisfied: Send2Trash in /opt/conda/envs/Python36/lib/python3.6/site-packages (from notebook>=4.0.0->qgrid) (1.5.0)\nRequirement already satisfied: jupyter-core>=4.4.0 in /opt/conda/envs/Python36/lib/python3.6/site-packages (from notebook>=4.0.0->qgrid) (4.4.0)\nRequirement already satisfied: pyzmq>=17 in /opt/conda/envs/Python36/lib/python3.6/site-packages (from notebook>=4.0.0->qgrid) (17.1.2)\nRequirement already satisfied: jsonschema!=2.5.0,>=2.4 in /opt/conda/envs/Python36/lib/python3.6/site-packages (from nbformat>=4.2.0->ipywidgets>=7.0.0->qgrid) (2.6.0)\nRequirement already satisfied: prompt-toolkit<2.1.0,>=2.0.0 in /opt/conda/envs/Python36/lib/python3.6/site-packages (from ipython>=4.0.0; python_version >= \"3.3\"->ipywidgets>=7.0.0->qgrid) (2.0.8)\nRequirement already satisfied: pexpect; sys_platform != \"win32\" in /opt/conda/envs/Python36/lib/python3.6/site-packages (from ipython>=4.0.0; python_version >= \"3.3\"->ipywidgets>=7.0.0->qgrid) (4.6.0)\nRequirement already satisfied: decorator in /opt/conda/envs/Python36/lib/python3.6/site-packages (from ipython>=4.0.0; python_version >= \"3.3\"->ipywidgets>=7.0.0->qgrid) (4.3.2)\nRequirement already satisfied: pygments in /opt/conda/envs/Python36/lib/python3.6/site-packages (from ipython>=4.0.0; python_version >= \"3.3\"->ipywidgets>=7.0.0->qgrid) (2.3.1)\nRequirement already satisfied: jedi>=0.10 in /opt/conda/envs/Python36/lib/python3.6/site-packages (from ipython>=4.0.0; python_version >= \"3.3\"->ipywidgets>=7.0.0->qgrid) (0.13.2)\nRequirement already satisfied: backcall in /opt/conda/envs/Python36/lib/python3.6/site-packages (from ipython>=4.0.0; python_version >= \"3.3\"->ipywidgets>=7.0.0->qgrid) (0.1.0)\nRequirement already satisfied: pickleshare in /opt/conda/envs/Python36/lib/python3.6/site-packages (from ipython>=4.0.0; python_version >= \"3.3\"->ipywidgets>=7.0.0->qgrid) (0.7.5)\nRequirement already satisfied: setuptools>=18.5 in /opt/conda/envs/Python36/lib/python3.6/site-packages (from ipython>=4.0.0; python_version >= \"3.3\"->ipywidgets>=7.0.0->qgrid) (40.8.0)\nRequirement already satisfied: six in /opt/conda/envs/Python36/lib/python3.6/site-packages (from traitlets>=4.3.1->ipywidgets>=7.0.0->qgrid) (1.12.0)\nRequirement already satisfied: mistune>=0.8.1 in /opt/conda/envs/Python36/lib/python3.6/site-packages (from nbconvert->notebook>=4.0.0->qgrid) (0.8.4)\nRequirement already satisfied: entrypoints>=0.2.2 in /opt/conda/envs/Python36/lib/python3.6/site-packages (from nbconvert->notebook>=4.0.0->qgrid) (0.3)\nRequirement already satisfied: bleach in /opt/conda/envs/Python36/lib/python3.6/site-packages (from nbconvert->notebook>=4.0.0->qgrid) (3.1.0)\nRequirement already satisfied: pandocfilters>=1.4.1 in /opt/conda/envs/Python36/lib/python3.6/site-packages (from nbconvert->notebook>=4.0.0->qgrid) (1.4.2)\nRequirement already satisfied: testpath in /opt/conda/envs/Python36/lib/python3.6/site-packages (from nbconvert->notebook>=4.0.0->qgrid) (0.4.2)\nRequirement already satisfied: defusedxml in /opt/conda/envs/Python36/lib/python3.6/site-packages (from nbconvert->notebook>=4.0.0->qgrid) (0.5.0)\nRequirement already satisfied: MarkupSafe>=0.23 in /opt/conda/envs/Python36/lib/python3.6/site-packages (from jinja2->notebook>=4.0.0->qgrid) (1.1.0)\nRequirement already satisfied: wcwidth in /opt/conda/envs/Python36/lib/python3.6/site-packages (from prompt-toolkit<2.1.0,>=2.0.0->ipython>=4.0.0; python_version >= \"3.3\"->ipywidgets>=7.0.0->qgrid) (0.1.7)\nRequirement already satisfied: ptyprocess>=0.5 in /opt/conda/envs/Python36/lib/python3.6/site-packages (from pexpect; sys_platform != \"win32\"->ipython>=4.0.0; python_version >= \"3.3\"->ipywidgets>=7.0.0->qgrid) (0.6.0)\nRequirement already satisfied: parso>=0.3.0 in /opt/conda/envs/Python36/lib/python3.6/site-packages (from jedi>=0.10->ipython>=4.0.0; python_version >= \"3.3\"->ipywidgets>=7.0.0->qgrid) (0.3.2)\nRequirement already satisfied: webencodings in /opt/conda/envs/Python36/lib/python3.6/site-packages (from bleach->nbconvert->notebook>=4.0.0->qgrid) (0.5.1)\n"
                }
            ],
            "source": "!pip install --user qgrid"
        },
        {
            "cell_type": "code",
            "execution_count": 3,
            "metadata": {},
            "outputs": [
                {
                    "name": "stdout",
                    "output_type": "stream",
                    "text": "Pixiedust database opened successfully\n"
                },
                {
                    "data": {
                        "text/html": "\n        <div style=\"margin:10px\">\n            <a href=\"https://github.com/ibm-watson-data-lab/pixiedust\" target=\"_new\">\n                <img src=\"https://github.com/ibm-watson-data-lab/pixiedust/raw/master/docs/_static/pd_icon32.png\" style=\"float:left;margin-right:10px\"/>\n            </a>\n            <span>Pixiedust version 1.1.18</span>\n        </div>\n        ",
                        "text/plain": "<IPython.core.display.HTML object>"
                    },
                    "metadata": {},
                    "output_type": "display_data"
                },
                {
                    "name": "stdout",
                    "output_type": "stream",
                    "text": "DB2 Extensions Loaded.\n"
                },
                {
                    "data": {
                        "text/html": "<style>\n  table {margin-left: 0 !important; text-align: left;}\n</style>\n",
                        "text/plain": "<IPython.core.display.HTML object>"
                    },
                    "metadata": {},
                    "output_type": "display_data"
                }
            ],
            "source": "%run db2re.ipynb"
        },
        {
            "cell_type": "code",
            "execution_count": 4,
            "metadata": {},
            "outputs": [
                {
                    "name": "stdout",
                    "output_type": "stream",
                    "text": "Requirement already satisfied: ipython-sql in /opt/conda/envs/Python36/lib/python3.6/site-packages (0.4.0)\nRequirement already satisfied: ipython-genutils>=0.1.0 in /opt/conda/envs/Python36/lib/python3.6/site-packages (from ipython-sql) (0.2.0)\nRequirement already satisfied: ipython>=1.0 in /opt/conda/envs/Python36/lib/python3.6/site-packages (from ipython-sql) (7.2.0)\nRequirement already satisfied: sqlparse in /opt/conda/envs/Python36/lib/python3.6/site-packages (from ipython-sql) (0.4.1)\nRequirement already satisfied: prettytable<1 in /opt/conda/envs/Python36/lib/python3.6/site-packages (from ipython-sql) (0.7.2)\nRequirement already satisfied: six in /opt/conda/envs/Python36/lib/python3.6/site-packages (from ipython-sql) (1.12.0)\nRequirement already satisfied: sqlalchemy>=0.6.7 in /opt/conda/envs/Python36/lib/python3.6/site-packages (from ipython-sql) (1.2.18)\nRequirement already satisfied: traitlets>=4.2 in /opt/conda/envs/Python36/lib/python3.6/site-packages (from ipython>=1.0->ipython-sql) (4.3.2)\nRequirement already satisfied: pickleshare in /opt/conda/envs/Python36/lib/python3.6/site-packages (from ipython>=1.0->ipython-sql) (0.7.5)\nRequirement already satisfied: prompt-toolkit<2.1.0,>=2.0.0 in /opt/conda/envs/Python36/lib/python3.6/site-packages (from ipython>=1.0->ipython-sql) (2.0.8)\nRequirement already satisfied: backcall in /opt/conda/envs/Python36/lib/python3.6/site-packages (from ipython>=1.0->ipython-sql) (0.1.0)\nRequirement already satisfied: decorator in /opt/conda/envs/Python36/lib/python3.6/site-packages (from ipython>=1.0->ipython-sql) (4.3.2)\nRequirement already satisfied: pygments in /opt/conda/envs/Python36/lib/python3.6/site-packages (from ipython>=1.0->ipython-sql) (2.3.1)\nRequirement already satisfied: setuptools>=18.5 in /opt/conda/envs/Python36/lib/python3.6/site-packages (from ipython>=1.0->ipython-sql) (40.8.0)\nRequirement already satisfied: jedi>=0.10 in /opt/conda/envs/Python36/lib/python3.6/site-packages (from ipython>=1.0->ipython-sql) (0.13.2)\nRequirement already satisfied: pexpect; sys_platform != \"win32\" in /opt/conda/envs/Python36/lib/python3.6/site-packages (from ipython>=1.0->ipython-sql) (4.6.0)\nRequirement already satisfied: wcwidth in /opt/conda/envs/Python36/lib/python3.6/site-packages (from prompt-toolkit<2.1.0,>=2.0.0->ipython>=1.0->ipython-sql) (0.1.7)\nRequirement already satisfied: parso>=0.3.0 in /opt/conda/envs/Python36/lib/python3.6/site-packages (from jedi>=0.10->ipython>=1.0->ipython-sql) (0.3.2)\nRequirement already satisfied: ptyprocess>=0.5 in /opt/conda/envs/Python36/lib/python3.6/site-packages (from pexpect; sys_platform != \"win32\"->ipython>=1.0->ipython-sql) (0.6.0)\n"
                }
            ],
            "source": "!pip install ipython-sql"
        },
        {
            "cell_type": "code",
            "execution_count": 8,
            "metadata": {},
            "outputs": [],
            "source": "%load_ext sql "
        },
        {
            "cell_type": "code",
            "execution_count": 12,
            "metadata": {},
            "outputs": [],
            "source": "%sql ibm_db_sa://ppz81225:v1thndhp0915f-49@dashdb-txn-sbox-yp-dal09-04.services.dal.bluemix.net:50000/BLUDB"
        },
        {
            "cell_type": "markdown",
            "metadata": {},
            "source": "### Query the database system catalog to retrieve table metadata\n"
        },
        {
            "cell_type": "code",
            "execution_count": 19,
            "metadata": {},
            "outputs": [
                {
                    "name": "stdout",
                    "output_type": "stream",
                    "text": " * ibm_db_sa://ppz81225:***@dashdb-txn-sbox-yp-dal09-04.services.dal.bluemix.net:50000/BLUDB\nDone.\n"
                },
                {
                    "data": {
                        "text/html": "<table>\n    <tr>\n        <th>tabschema</th>\n        <th>tabname</th>\n        <th>create_time</th>\n    </tr>\n    <tr>\n        <td>PPZ81225</td>\n        <td>EMPLOYEES</td>\n        <td>2020-10-09 06:50:46.650530</td>\n    </tr>\n    <tr>\n        <td>PPZ81225</td>\n        <td>JOB_HISTORY</td>\n        <td>2020-10-09 06:50:46.818987</td>\n    </tr>\n    <tr>\n        <td>PPZ81225</td>\n        <td>LOCATIONS</td>\n        <td>2020-10-09 06:50:47.272549</td>\n    </tr>\n    <tr>\n        <td>PPZ81225</td>\n        <td>JOBS</td>\n        <td>2020-10-09 07:15:42.989211</td>\n    </tr>\n    <tr>\n        <td>PPZ81225</td>\n        <td>DEPARTMENTS</td>\n        <td>2020-10-09 07:26:27.849631</td>\n    </tr>\n    <tr>\n        <td>PPZ81225</td>\n        <td>PETSALE</td>\n        <td>2020-10-09 13:31:32.747647</td>\n    </tr>\n    <tr>\n        <td>PPZ81225</td>\n        <td>INSTRUCTOR</td>\n        <td>2020-10-10 10:38:19.104707</td>\n    </tr>\n    <tr>\n        <td>PPZ81225</td>\n        <td>INTERNATIONAL_STUDENT_TEST_SCORES</td>\n        <td>2020-10-10 11:45:15.206576</td>\n    </tr>\n    <tr>\n        <td>PPZ81225</td>\n        <td>CHICAGO_SOCIOECONOMIC_DATA</td>\n        <td>2020-10-10 12:29:32.949000</td>\n    </tr>\n    <tr>\n        <td>PPZ81225</td>\n        <td>CSD</td>\n        <td>2020-10-10 12:30:39.409570</td>\n    </tr>\n    <tr>\n        <td>PPZ81225</td>\n        <td>CHICAGO</td>\n        <td>2020-10-10 19:06:47.148834</td>\n    </tr>\n</table>",
                        "text/plain": "[('PPZ81225', 'EMPLOYEES', datetime.datetime(2020, 10, 9, 6, 50, 46, 650530)),\n ('PPZ81225', 'JOB_HISTORY', datetime.datetime(2020, 10, 9, 6, 50, 46, 818987)),\n ('PPZ81225', 'LOCATIONS', datetime.datetime(2020, 10, 9, 6, 50, 47, 272549)),\n ('PPZ81225', 'JOBS', datetime.datetime(2020, 10, 9, 7, 15, 42, 989211)),\n ('PPZ81225', 'DEPARTMENTS', datetime.datetime(2020, 10, 9, 7, 26, 27, 849631)),\n ('PPZ81225', 'PETSALE', datetime.datetime(2020, 10, 9, 13, 31, 32, 747647)),\n ('PPZ81225', 'INSTRUCTOR', datetime.datetime(2020, 10, 10, 10, 38, 19, 104707)),\n ('PPZ81225', 'INTERNATIONAL_STUDENT_TEST_SCORES', datetime.datetime(2020, 10, 10, 11, 45, 15, 206576)),\n ('PPZ81225', 'CHICAGO_SOCIOECONOMIC_DATA', datetime.datetime(2020, 10, 10, 12, 29, 32, 949000)),\n ('PPZ81225', 'CSD', datetime.datetime(2020, 10, 10, 12, 30, 39, 409570)),\n ('PPZ81225', 'CHICAGO', datetime.datetime(2020, 10, 10, 19, 6, 47, 148834))]"
                    },
                    "execution_count": 19,
                    "metadata": {},
                    "output_type": "execute_result"
                }
            ],
            "source": "# type in your query to retrieve list of all tables in the database for your db2 schema (username)\n\n%sql select TABSCHEMA, TABNAME, CREATE_TIME from syscat.tables\\\nwhere TABSCHEMA = 'PPZ81225'\n"
        },
        {
            "cell_type": "markdown",
            "metadata": {},
            "source": "### Query the database system catalog to retrieve column metadata\n\n##### The SCHOOLS table contains a large number of columns. How many columns does this table have?\n"
        },
        {
            "cell_type": "code",
            "execution_count": 21,
            "metadata": {},
            "outputs": [
                {
                    "name": "stdout",
                    "output_type": "stream",
                    "text": " * ibm_db_sa://ppz81225:***@dashdb-txn-sbox-yp-dal09-04.services.dal.bluemix.net:50000/BLUDB\nDone.\n"
                },
                {
                    "data": {
                        "text/html": "<table>\n    <tr>\n        <th>1</th>\n    </tr>\n    <tr>\n        <td>78</td>\n    </tr>\n</table>",
                        "text/plain": "[(Decimal('78'),)]"
                    },
                    "execution_count": 21,
                    "metadata": {},
                    "output_type": "execute_result"
                }
            ],
            "source": "# type in your query to retrieve the number of columns in the SCHOOLS table\n%sql select count(*) from syscat.columns\\\nwhere TABNAME = 'CHICAGO'"
        },
        {
            "cell_type": "markdown",
            "metadata": {},
            "source": "Now retrieve  the list of columns in SCHOOLS table and their column type (datatype) and length.\n"
        },
        {
            "cell_type": "code",
            "execution_count": 23,
            "metadata": {},
            "outputs": [
                {
                    "name": "stdout",
                    "output_type": "stream",
                    "text": " * ibm_db_sa://ppz81225:***@dashdb-txn-sbox-yp-dal09-04.services.dal.bluemix.net:50000/BLUDB\nDone.\n"
                },
                {
                    "data": {
                        "text/html": "<table>\n    <tr>\n        <th>colname</th>\n        <th>typename</th>\n        <th>length</th>\n    </tr>\n    <tr>\n        <td>School_ID</td>\n        <td>INTEGER</td>\n        <td>4</td>\n    </tr>\n    <tr>\n        <td>NAME_OF_SCHOOL</td>\n        <td>VARCHAR</td>\n        <td>65</td>\n    </tr>\n    <tr>\n        <td>Elementary, Middle, or High School</td>\n        <td>VARCHAR</td>\n        <td>2</td>\n    </tr>\n    <tr>\n        <td>Street_Address</td>\n        <td>VARCHAR</td>\n        <td>30</td>\n    </tr>\n    <tr>\n        <td>City</td>\n        <td>VARCHAR</td>\n        <td>7</td>\n    </tr>\n    <tr>\n        <td>State</td>\n        <td>VARCHAR</td>\n        <td>2</td>\n    </tr>\n    <tr>\n        <td>ZIP_Code</td>\n        <td>INTEGER</td>\n        <td>4</td>\n    </tr>\n    <tr>\n        <td>Phone_Number</td>\n        <td>VARCHAR</td>\n        <td>14</td>\n    </tr>\n    <tr>\n        <td>Link</td>\n        <td>VARCHAR</td>\n        <td>78</td>\n    </tr>\n    <tr>\n        <td>Network_Manager</td>\n        <td>VARCHAR</td>\n        <td>40</td>\n    </tr>\n    <tr>\n        <td>Collaborative_Name</td>\n        <td>VARCHAR</td>\n        <td>34</td>\n    </tr>\n    <tr>\n        <td>Adequate_Yearly_Progress_Made_</td>\n        <td>VARCHAR</td>\n        <td>3</td>\n    </tr>\n    <tr>\n        <td>Track_Schedule</td>\n        <td>VARCHAR</td>\n        <td>12</td>\n    </tr>\n    <tr>\n        <td>CPS_Performance_Policy_Status</td>\n        <td>VARCHAR</td>\n        <td>16</td>\n    </tr>\n    <tr>\n        <td>CPS_Performance_Policy_Level</td>\n        <td>VARCHAR</td>\n        <td>15</td>\n    </tr>\n    <tr>\n        <td>HEALTHY_SCHOOL_CERTIFIED</td>\n        <td>VARCHAR</td>\n        <td>3</td>\n    </tr>\n    <tr>\n        <td>Safety_Icon</td>\n        <td>VARCHAR</td>\n        <td>11</td>\n    </tr>\n    <tr>\n        <td>SAFETY_SCORE</td>\n        <td>SMALLINT</td>\n        <td>2</td>\n    </tr>\n    <tr>\n        <td>Family_Involvement_Icon</td>\n        <td>VARCHAR</td>\n        <td>11</td>\n    </tr>\n    <tr>\n        <td>Family_Involvement_Score</td>\n        <td>VARCHAR</td>\n        <td>3</td>\n    </tr>\n    <tr>\n        <td>Environment_Icon</td>\n        <td>VARCHAR</td>\n        <td>11</td>\n    </tr>\n    <tr>\n        <td>Environment_Score</td>\n        <td>SMALLINT</td>\n        <td>2</td>\n    </tr>\n    <tr>\n        <td>Instruction_Icon</td>\n        <td>VARCHAR</td>\n        <td>11</td>\n    </tr>\n    <tr>\n        <td>Instruction_Score</td>\n        <td>SMALLINT</td>\n        <td>2</td>\n    </tr>\n    <tr>\n        <td>Leaders_Icon</td>\n        <td>VARCHAR</td>\n        <td>11</td>\n    </tr>\n    <tr>\n        <td>Leaders_Score</td>\n        <td>VARCHAR</td>\n        <td>3</td>\n    </tr>\n    <tr>\n        <td>Teachers_Icon</td>\n        <td>VARCHAR</td>\n        <td>11</td>\n    </tr>\n    <tr>\n        <td>Teachers_Score</td>\n        <td>VARCHAR</td>\n        <td>3</td>\n    </tr>\n    <tr>\n        <td>Parent_Engagement_Icon</td>\n        <td>VARCHAR</td>\n        <td>7</td>\n    </tr>\n    <tr>\n        <td>Parent_Engagement_Score</td>\n        <td>VARCHAR</td>\n        <td>3</td>\n    </tr>\n    <tr>\n        <td>Parent_Environment_Icon</td>\n        <td>VARCHAR</td>\n        <td>7</td>\n    </tr>\n    <tr>\n        <td>Parent_Environment_Score</td>\n        <td>VARCHAR</td>\n        <td>3</td>\n    </tr>\n    <tr>\n        <td>AVERAGE_STUDENT_ATTENDANCE</td>\n        <td>VARCHAR</td>\n        <td>6</td>\n    </tr>\n    <tr>\n        <td>Rate_of_Misconducts__per_100_students_</td>\n        <td>DECIMAL</td>\n        <td>5</td>\n    </tr>\n    <tr>\n        <td>Average_Teacher_Attendance</td>\n        <td>VARCHAR</td>\n        <td>6</td>\n    </tr>\n    <tr>\n        <td>Individualized_Education_Program_Compliance_Rate</td>\n        <td>VARCHAR</td>\n        <td>7</td>\n    </tr>\n    <tr>\n        <td>Pk_2_Literacy__</td>\n        <td>VARCHAR</td>\n        <td>4</td>\n    </tr>\n    <tr>\n        <td>Pk_2_Math__</td>\n        <td>VARCHAR</td>\n        <td>4</td>\n    </tr>\n    <tr>\n        <td>Gr3_5_Grade_Level_Math__</td>\n        <td>VARCHAR</td>\n        <td>4</td>\n    </tr>\n    <tr>\n        <td>Gr3_5_Grade_Level_Read__</td>\n        <td>VARCHAR</td>\n        <td>4</td>\n    </tr>\n    <tr>\n        <td>Gr3_5_Keep_Pace_Read__</td>\n        <td>VARCHAR</td>\n        <td>4</td>\n    </tr>\n    <tr>\n        <td>Gr3_5_Keep_Pace_Math__</td>\n        <td>VARCHAR</td>\n        <td>4</td>\n    </tr>\n    <tr>\n        <td>Gr6_8_Grade_Level_Math__</td>\n        <td>VARCHAR</td>\n        <td>4</td>\n    </tr>\n    <tr>\n        <td>Gr6_8_Grade_Level_Read__</td>\n        <td>VARCHAR</td>\n        <td>4</td>\n    </tr>\n    <tr>\n        <td>Gr6_8_Keep_Pace_Math_</td>\n        <td>VARCHAR</td>\n        <td>4</td>\n    </tr>\n    <tr>\n        <td>Gr6_8_Keep_Pace_Read__</td>\n        <td>VARCHAR</td>\n        <td>4</td>\n    </tr>\n    <tr>\n        <td>Gr_8_Explore_Math__</td>\n        <td>VARCHAR</td>\n        <td>4</td>\n    </tr>\n    <tr>\n        <td>Gr_8_Explore_Read__</td>\n        <td>VARCHAR</td>\n        <td>4</td>\n    </tr>\n    <tr>\n        <td>ISAT_Exceeding_Math__</td>\n        <td>DECIMAL</td>\n        <td>4</td>\n    </tr>\n    <tr>\n        <td>ISAT_Exceeding_Reading__</td>\n        <td>DECIMAL</td>\n        <td>4</td>\n    </tr>\n    <tr>\n        <td>ISAT_Value_Add_Math</td>\n        <td>DECIMAL</td>\n        <td>3</td>\n    </tr>\n    <tr>\n        <td>ISAT_Value_Add_Read</td>\n        <td>DECIMAL</td>\n        <td>3</td>\n    </tr>\n    <tr>\n        <td>ISAT_Value_Add_Color_Math</td>\n        <td>VARCHAR</td>\n        <td>6</td>\n    </tr>\n    <tr>\n        <td>ISAT_Value_Add_Color_Read</td>\n        <td>VARCHAR</td>\n        <td>6</td>\n    </tr>\n    <tr>\n        <td>Students_Taking__Algebra__</td>\n        <td>VARCHAR</td>\n        <td>4</td>\n    </tr>\n    <tr>\n        <td>Students_Passing__Algebra__</td>\n        <td>VARCHAR</td>\n        <td>4</td>\n    </tr>\n    <tr>\n        <td>9th Grade EXPLORE (2009)</td>\n        <td>VARCHAR</td>\n        <td>4</td>\n    </tr>\n    <tr>\n        <td>9th Grade EXPLORE (2010)</td>\n        <td>VARCHAR</td>\n        <td>4</td>\n    </tr>\n    <tr>\n        <td>10th Grade PLAN (2009)</td>\n        <td>VARCHAR</td>\n        <td>4</td>\n    </tr>\n    <tr>\n        <td>10th Grade PLAN (2010)</td>\n        <td>VARCHAR</td>\n        <td>4</td>\n    </tr>\n    <tr>\n        <td>Net_Change_EXPLORE_and_PLAN</td>\n        <td>VARCHAR</td>\n        <td>3</td>\n    </tr>\n    <tr>\n        <td>11th Grade Average ACT (2011)</td>\n        <td>VARCHAR</td>\n        <td>4</td>\n    </tr>\n    <tr>\n        <td>Net_Change_PLAN_and_ACT</td>\n        <td>VARCHAR</td>\n        <td>3</td>\n    </tr>\n    <tr>\n        <td>College_Eligibility__</td>\n        <td>VARCHAR</td>\n        <td>4</td>\n    </tr>\n    <tr>\n        <td>Graduation_Rate__</td>\n        <td>VARCHAR</td>\n        <td>4</td>\n    </tr>\n    <tr>\n        <td>College_Enrollment_Rate__</td>\n        <td>VARCHAR</td>\n        <td>4</td>\n    </tr>\n    <tr>\n        <td>COLLEGE_ENROLLMENT</td>\n        <td>SMALLINT</td>\n        <td>2</td>\n    </tr>\n    <tr>\n        <td>General_Services_Route</td>\n        <td>SMALLINT</td>\n        <td>2</td>\n    </tr>\n    <tr>\n        <td>Freshman_on_Track_Rate__</td>\n        <td>VARCHAR</td>\n        <td>4</td>\n    </tr>\n    <tr>\n        <td>X_COORDINATE</td>\n        <td>DECIMAL</td>\n        <td>13</td>\n    </tr>\n    <tr>\n        <td>Y_COORDINATE</td>\n        <td>DECIMAL</td>\n        <td>13</td>\n    </tr>\n    <tr>\n        <td>Latitude</td>\n        <td>DECIMAL</td>\n        <td>18</td>\n    </tr>\n    <tr>\n        <td>Longitude</td>\n        <td>DECIMAL</td>\n        <td>18</td>\n    </tr>\n    <tr>\n        <td>COMMUNITY_AREA_NUMBER</td>\n        <td>SMALLINT</td>\n        <td>2</td>\n    </tr>\n    <tr>\n        <td>COMMUNITY_AREA_NAME</td>\n        <td>VARCHAR</td>\n        <td>22</td>\n    </tr>\n    <tr>\n        <td>Ward</td>\n        <td>SMALLINT</td>\n        <td>2</td>\n    </tr>\n    <tr>\n        <td>Police_District</td>\n        <td>SMALLINT</td>\n        <td>2</td>\n    </tr>\n    <tr>\n        <td>Location</td>\n        <td>VARCHAR</td>\n        <td>27</td>\n    </tr>\n</table>",
                        "text/plain": "[('School_ID', 'INTEGER', 4),\n ('NAME_OF_SCHOOL', 'VARCHAR', 65),\n ('Elementary, Middle, or High School', 'VARCHAR', 2),\n ('Street_Address', 'VARCHAR', 30),\n ('City', 'VARCHAR', 7),\n ('State', 'VARCHAR', 2),\n ('ZIP_Code', 'INTEGER', 4),\n ('Phone_Number', 'VARCHAR', 14),\n ('Link', 'VARCHAR', 78),\n ('Network_Manager', 'VARCHAR', 40),\n ('Collaborative_Name', 'VARCHAR', 34),\n ('Adequate_Yearly_Progress_Made_', 'VARCHAR', 3),\n ('Track_Schedule', 'VARCHAR', 12),\n ('CPS_Performance_Policy_Status', 'VARCHAR', 16),\n ('CPS_Performance_Policy_Level', 'VARCHAR', 15),\n ('HEALTHY_SCHOOL_CERTIFIED', 'VARCHAR', 3),\n ('Safety_Icon', 'VARCHAR', 11),\n ('SAFETY_SCORE', 'SMALLINT', 2),\n ('Family_Involvement_Icon', 'VARCHAR', 11),\n ('Family_Involvement_Score', 'VARCHAR', 3),\n ('Environment_Icon', 'VARCHAR', 11),\n ('Environment_Score', 'SMALLINT', 2),\n ('Instruction_Icon', 'VARCHAR', 11),\n ('Instruction_Score', 'SMALLINT', 2),\n ('Leaders_Icon', 'VARCHAR', 11),\n ('Leaders_Score', 'VARCHAR', 3),\n ('Teachers_Icon', 'VARCHAR', 11),\n ('Teachers_Score', 'VARCHAR', 3),\n ('Parent_Engagement_Icon', 'VARCHAR', 7),\n ('Parent_Engagement_Score', 'VARCHAR', 3),\n ('Parent_Environment_Icon', 'VARCHAR', 7),\n ('Parent_Environment_Score', 'VARCHAR', 3),\n ('AVERAGE_STUDENT_ATTENDANCE', 'VARCHAR', 6),\n ('Rate_of_Misconducts__per_100_students_', 'DECIMAL', 5),\n ('Average_Teacher_Attendance', 'VARCHAR', 6),\n ('Individualized_Education_Program_Compliance_Rate', 'VARCHAR', 7),\n ('Pk_2_Literacy__', 'VARCHAR', 4),\n ('Pk_2_Math__', 'VARCHAR', 4),\n ('Gr3_5_Grade_Level_Math__', 'VARCHAR', 4),\n ('Gr3_5_Grade_Level_Read__', 'VARCHAR', 4),\n ('Gr3_5_Keep_Pace_Read__', 'VARCHAR', 4),\n ('Gr3_5_Keep_Pace_Math__', 'VARCHAR', 4),\n ('Gr6_8_Grade_Level_Math__', 'VARCHAR', 4),\n ('Gr6_8_Grade_Level_Read__', 'VARCHAR', 4),\n ('Gr6_8_Keep_Pace_Math_', 'VARCHAR', 4),\n ('Gr6_8_Keep_Pace_Read__', 'VARCHAR', 4),\n ('Gr_8_Explore_Math__', 'VARCHAR', 4),\n ('Gr_8_Explore_Read__', 'VARCHAR', 4),\n ('ISAT_Exceeding_Math__', 'DECIMAL', 4),\n ('ISAT_Exceeding_Reading__', 'DECIMAL', 4),\n ('ISAT_Value_Add_Math', 'DECIMAL', 3),\n ('ISAT_Value_Add_Read', 'DECIMAL', 3),\n ('ISAT_Value_Add_Color_Math', 'VARCHAR', 6),\n ('ISAT_Value_Add_Color_Read', 'VARCHAR', 6),\n ('Students_Taking__Algebra__', 'VARCHAR', 4),\n ('Students_Passing__Algebra__', 'VARCHAR', 4),\n ('9th Grade EXPLORE (2009)', 'VARCHAR', 4),\n ('9th Grade EXPLORE (2010)', 'VARCHAR', 4),\n ('10th Grade PLAN (2009)', 'VARCHAR', 4),\n ('10th Grade PLAN (2010)', 'VARCHAR', 4),\n ('Net_Change_EXPLORE_and_PLAN', 'VARCHAR', 3),\n ('11th Grade Average ACT (2011)', 'VARCHAR', 4),\n ('Net_Change_PLAN_and_ACT', 'VARCHAR', 3),\n ('College_Eligibility__', 'VARCHAR', 4),\n ('Graduation_Rate__', 'VARCHAR', 4),\n ('College_Enrollment_Rate__', 'VARCHAR', 4),\n ('COLLEGE_ENROLLMENT', 'SMALLINT', 2),\n ('General_Services_Route', 'SMALLINT', 2),\n ('Freshman_on_Track_Rate__', 'VARCHAR', 4),\n ('X_COORDINATE', 'DECIMAL', 13),\n ('Y_COORDINATE', 'DECIMAL', 13),\n ('Latitude', 'DECIMAL', 18),\n ('Longitude', 'DECIMAL', 18),\n ('COMMUNITY_AREA_NUMBER', 'SMALLINT', 2),\n ('COMMUNITY_AREA_NAME', 'VARCHAR', 22),\n ('Ward', 'SMALLINT', 2),\n ('Police_District', 'SMALLINT', 2),\n ('Location', 'VARCHAR', 27)]"
                    },
                    "execution_count": 23,
                    "metadata": {},
                    "output_type": "execute_result"
                }
            ],
            "source": "# type in your query to retrieve all column names in the SCHOOLS table along with their datatypes and length\n%sql select COLNAME, TYPENAME, LENGTH from syscat.columns\\\nwhere TABNAME = 'CHICAGO' "
        },
        {
            "cell_type": "markdown",
            "metadata": {},
            "source": "### Questions\n\n1.  Is the column name for the \"SCHOOL ID\" attribute in upper or mixed case?\n2.  What is the name of \"Community Area Name\" column in your table? Does it have spaces?\n3.  Are there any columns in whose names the spaces and paranthesis (round brackets) have been replaced by the underscore character \"\\_\"?\n"
        },
        {
            "cell_type": "code",
            "execution_count": 27,
            "metadata": {},
            "outputs": [
                {
                    "name": "stdout",
                    "output_type": "stream",
                    "text": " * ibm_db_sa://ppz81225:***@dashdb-txn-sbox-yp-dal09-04.services.dal.bluemix.net:50000/BLUDB\nDone.\n"
                },
                {
                    "data": {
                        "text/html": "<table>\n    <tr>\n        <th>School_ID</th>\n        <th>name_of_school</th>\n        <th>Elementary, Middle, or High School</th>\n        <th>Street_Address</th>\n        <th>City</th>\n        <th>State</th>\n        <th>ZIP_Code</th>\n        <th>Phone_Number</th>\n        <th>Link</th>\n        <th>Network_Manager</th>\n        <th>Collaborative_Name</th>\n        <th>Adequate_Yearly_Progress_Made_</th>\n        <th>Track_Schedule</th>\n        <th>CPS_Performance_Policy_Status</th>\n        <th>CPS_Performance_Policy_Level</th>\n        <th>healthy_school_certified</th>\n        <th>Safety_Icon</th>\n        <th>safety_score</th>\n        <th>Family_Involvement_Icon</th>\n        <th>Family_Involvement_Score</th>\n        <th>Environment_Icon</th>\n        <th>Environment_Score</th>\n        <th>Instruction_Icon</th>\n        <th>Instruction_Score</th>\n        <th>Leaders_Icon</th>\n        <th>Leaders_Score</th>\n        <th>Teachers_Icon</th>\n        <th>Teachers_Score</th>\n        <th>Parent_Engagement_Icon</th>\n        <th>Parent_Engagement_Score</th>\n        <th>Parent_Environment_Icon</th>\n        <th>Parent_Environment_Score</th>\n        <th>average_student_attendance</th>\n        <th>Rate_of_Misconducts__per_100_students_</th>\n        <th>Average_Teacher_Attendance</th>\n        <th>Individualized_Education_Program_Compliance_Rate</th>\n        <th>Pk_2_Literacy__</th>\n        <th>Pk_2_Math__</th>\n        <th>Gr3_5_Grade_Level_Math__</th>\n        <th>Gr3_5_Grade_Level_Read__</th>\n        <th>Gr3_5_Keep_Pace_Read__</th>\n        <th>Gr3_5_Keep_Pace_Math__</th>\n        <th>Gr6_8_Grade_Level_Math__</th>\n        <th>Gr6_8_Grade_Level_Read__</th>\n        <th>Gr6_8_Keep_Pace_Math_</th>\n        <th>Gr6_8_Keep_Pace_Read__</th>\n        <th>Gr_8_Explore_Math__</th>\n        <th>Gr_8_Explore_Read__</th>\n        <th>ISAT_Exceeding_Math__</th>\n        <th>ISAT_Exceeding_Reading__</th>\n        <th>ISAT_Value_Add_Math</th>\n        <th>ISAT_Value_Add_Read</th>\n        <th>ISAT_Value_Add_Color_Math</th>\n        <th>ISAT_Value_Add_Color_Read</th>\n        <th>Students_Taking__Algebra__</th>\n        <th>Students_Passing__Algebra__</th>\n        <th>9th Grade EXPLORE (2009)</th>\n        <th>9th Grade EXPLORE (2010)</th>\n        <th>10th Grade PLAN (2009)</th>\n        <th>10th Grade PLAN (2010)</th>\n        <th>Net_Change_EXPLORE_and_PLAN</th>\n        <th>11th Grade Average ACT (2011)</th>\n        <th>Net_Change_PLAN_and_ACT</th>\n        <th>College_Eligibility__</th>\n        <th>Graduation_Rate__</th>\n        <th>College_Enrollment_Rate__</th>\n        <th>college_enrollment</th>\n        <th>General_Services_Route</th>\n        <th>Freshman_on_Track_Rate__</th>\n        <th>x_coordinate</th>\n        <th>y_coordinate</th>\n        <th>Latitude</th>\n        <th>Longitude</th>\n        <th>community_area_number</th>\n        <th>community_area_name</th>\n        <th>Ward</th>\n        <th>Police_District</th>\n        <th>Location</th>\n    </tr>\n    <tr>\n        <td>610038</td>\n        <td>Abraham Lincoln Elementary School</td>\n        <td>ES</td>\n        <td>615 W Kemper Pl</td>\n        <td>Chicago</td>\n        <td>IL</td>\n        <td>60614</td>\n        <td>(773) 534-5720</td>\n        <td>http://schoolreports.cps.edu/SchoolProgressReport_Eng/Spring2011Eng_610038.pdf</td>\n        <td>Fullerton Elementary Network</td>\n        <td>NORTH-NORTHWEST SIDE COLLABORATIVE</td>\n        <td>No</td>\n        <td>Standard</td>\n        <td>Not on Probation</td>\n        <td>Level 1</td>\n        <td>Yes</td>\n        <td>Very Strong</td>\n        <td>99</td>\n        <td>Very Strong</td>\n        <td>99</td>\n        <td>Strong</td>\n        <td>74</td>\n        <td>Strong</td>\n        <td>66</td>\n        <td>Strong</td>\n        <td>65</td>\n        <td>Strong</td>\n        <td>70</td>\n        <td>Strong</td>\n        <td>56</td>\n        <td>Average</td>\n        <td>47</td>\n        <td>96.00%</td>\n        <td>2.0</td>\n        <td>96.40%</td>\n        <td>95.80%</td>\n        <td>80.1</td>\n        <td>43.3</td>\n        <td>89.6</td>\n        <td>84.9</td>\n        <td>60.7</td>\n        <td>62.6</td>\n        <td>81.9</td>\n        <td>85.2</td>\n        <td>52</td>\n        <td>62.4</td>\n        <td>66.3</td>\n        <td>77.9</td>\n        <td>69.7</td>\n        <td>64.4</td>\n        <td>0.2</td>\n        <td>0.9</td>\n        <td>Yellow</td>\n        <td>Green</td>\n        <td>67.1</td>\n        <td>54.5</td>\n        <td>NDA</td>\n        <td>NDA</td>\n        <td>NDA</td>\n        <td>NDA</td>\n        <td>NDA</td>\n        <td>NDA</td>\n        <td>NDA</td>\n        <td>NDA</td>\n        <td>NDA</td>\n        <td>NDA</td>\n        <td>813</td>\n        <td>33</td>\n        <td>NDA</td>\n        <td>1171699.458</td>\n        <td>1915829.428</td>\n        <td>41.92449696</td>\n        <td>-87.64452163</td>\n        <td>7</td>\n        <td>LINCOLN PARK</td>\n        <td>43</td>\n        <td>18</td>\n        <td>(41.92449696, -87.64452163)</td>\n    </tr>\n    <tr>\n        <td>610281</td>\n        <td>Adam Clayton Powell Paideia Community Academy Elementary School</td>\n        <td>ES</td>\n        <td>7511 S South Shore Dr</td>\n        <td>Chicago</td>\n        <td>IL</td>\n        <td>60649</td>\n        <td>(773) 535-6650</td>\n        <td>http://schoolreports.cps.edu/SchoolProgressReport_Eng/Spring2011Eng_610281.pdf</td>\n        <td>Skyway Elementary Network</td>\n        <td>SOUTH SIDE COLLABORATIVE</td>\n        <td>No</td>\n        <td>Track_E</td>\n        <td>Not on Probation</td>\n        <td>Level 1</td>\n        <td>No</td>\n        <td>Average</td>\n        <td>54</td>\n        <td>Strong</td>\n        <td>66</td>\n        <td>Strong</td>\n        <td>74</td>\n        <td>Very Strong</td>\n        <td>84</td>\n        <td>Strong</td>\n        <td>63</td>\n        <td>Strong</td>\n        <td>76</td>\n        <td>Weak</td>\n        <td>46</td>\n        <td>Average</td>\n        <td>50</td>\n        <td>95.60%</td>\n        <td>15.7</td>\n        <td>95.30%</td>\n        <td>100.00%</td>\n        <td>62.4</td>\n        <td>51.7</td>\n        <td>21.9</td>\n        <td>15.1</td>\n        <td>29</td>\n        <td>42.8</td>\n        <td>38.5</td>\n        <td>27.4</td>\n        <td>44.8</td>\n        <td>42.7</td>\n        <td>14.1</td>\n        <td>34.4</td>\n        <td>16.8</td>\n        <td>16.5</td>\n        <td>0.7</td>\n        <td>1.4</td>\n        <td>Green</td>\n        <td>Green</td>\n        <td>17.2</td>\n        <td>27.3</td>\n        <td>NDA</td>\n        <td>NDA</td>\n        <td>NDA</td>\n        <td>NDA</td>\n        <td>NDA</td>\n        <td>NDA</td>\n        <td>NDA</td>\n        <td>NDA</td>\n        <td>NDA</td>\n        <td>NDA</td>\n        <td>521</td>\n        <td>46</td>\n        <td>NDA</td>\n        <td>1196129.985</td>\n        <td>1856209.466</td>\n        <td>41.76032435</td>\n        <td>-87.55673627</td>\n        <td>43</td>\n        <td>SOUTH SHORE</td>\n        <td>7</td>\n        <td>4</td>\n        <td>(41.76032435, -87.55673627)</td>\n    </tr>\n    <tr>\n        <td>610185</td>\n        <td>Adlai E Stevenson Elementary School</td>\n        <td>ES</td>\n        <td>8010 S Kostner Ave</td>\n        <td>Chicago</td>\n        <td>IL</td>\n        <td>60652</td>\n        <td>(773) 535-2280</td>\n        <td>http://schoolreports.cps.edu/SchoolProgressReport_Eng/Spring2011Eng_610185.pdf</td>\n        <td>Midway Elementary Network</td>\n        <td>SOUTHWEST SIDE COLLABORATIVE</td>\n        <td>No</td>\n        <td>Standard</td>\n        <td>Not on Probation</td>\n        <td>Level 2</td>\n        <td>No</td>\n        <td>Strong</td>\n        <td>61</td>\n        <td>NDA</td>\n        <td>NDA</td>\n        <td>Average</td>\n        <td>50</td>\n        <td>Weak</td>\n        <td>36</td>\n        <td>NDA</td>\n        <td>NDA</td>\n        <td>NDA</td>\n        <td>NDA</td>\n        <td>Average</td>\n        <td>47</td>\n        <td>Weak</td>\n        <td>41</td>\n        <td>95.70%</td>\n        <td>2.3</td>\n        <td>94.70%</td>\n        <td>98.30%</td>\n        <td>53.7</td>\n        <td>26.6</td>\n        <td>38.3</td>\n        <td>34.7</td>\n        <td>43.7</td>\n        <td>57.3</td>\n        <td>48.8</td>\n        <td>39.2</td>\n        <td>46.8</td>\n        <td>44</td>\n        <td>7.5</td>\n        <td>21.9</td>\n        <td>18.3</td>\n        <td>15.5</td>\n        <td>-0.9</td>\n        <td>-1.0</td>\n        <td>Red</td>\n        <td>Red</td>\n        <td>NDA</td>\n        <td>NDA</td>\n        <td>NDA</td>\n        <td>NDA</td>\n        <td>NDA</td>\n        <td>NDA</td>\n        <td>NDA</td>\n        <td>NDA</td>\n        <td>NDA</td>\n        <td>NDA</td>\n        <td>NDA</td>\n        <td>NDA</td>\n        <td>1324</td>\n        <td>44</td>\n        <td>NDA</td>\n        <td>1148427.165</td>\n        <td>1851012.215</td>\n        <td>41.74711093</td>\n        <td>-87.73170248</td>\n        <td>70</td>\n        <td>ASHBURN</td>\n        <td>13</td>\n        <td>8</td>\n        <td>(41.74711093, -87.73170248)</td>\n    </tr>\n    <tr>\n        <td>609993</td>\n        <td>Agustin Lara Elementary Academy</td>\n        <td>ES</td>\n        <td>4619 S Wolcott Ave</td>\n        <td>Chicago</td>\n        <td>IL</td>\n        <td>60609</td>\n        <td>(773) 535-4389</td>\n        <td>http://schoolreports.cps.edu/SchoolProgressReport_Eng/Spring2011Eng_609993.pdf</td>\n        <td>Pershing Elementary Network</td>\n        <td>SOUTHWEST SIDE COLLABORATIVE</td>\n        <td>No</td>\n        <td>Track_E</td>\n        <td>Not on Probation</td>\n        <td>Level 1</td>\n        <td>No</td>\n        <td>Average</td>\n        <td>56</td>\n        <td>Average</td>\n        <td>44</td>\n        <td>Average</td>\n        <td>45</td>\n        <td>Weak</td>\n        <td>37</td>\n        <td>Strong</td>\n        <td>65</td>\n        <td>Average</td>\n        <td>48</td>\n        <td>Average</td>\n        <td>53</td>\n        <td>Strong</td>\n        <td>58</td>\n        <td>95.50%</td>\n        <td>10.4</td>\n        <td>95.80%</td>\n        <td>100.00%</td>\n        <td>76.9</td>\n        <td>NDA</td>\n        <td>26</td>\n        <td>24.7</td>\n        <td>61.8</td>\n        <td>49.7</td>\n        <td>39.2</td>\n        <td>27.2</td>\n        <td>69.7</td>\n        <td>60.6</td>\n        <td>9.1</td>\n        <td>18.2</td>\n        <td>11.1</td>\n        <td>9.6</td>\n        <td>0.9</td>\n        <td>2.4</td>\n        <td>Green</td>\n        <td>Green</td>\n        <td>42.9</td>\n        <td>25</td>\n        <td>NDA</td>\n        <td>NDA</td>\n        <td>NDA</td>\n        <td>NDA</td>\n        <td>NDA</td>\n        <td>NDA</td>\n        <td>NDA</td>\n        <td>NDA</td>\n        <td>NDA</td>\n        <td>NDA</td>\n        <td>556</td>\n        <td>42</td>\n        <td>NDA</td>\n        <td>1164504.290</td>\n        <td>1873959.199</td>\n        <td>41.80975690</td>\n        <td>-87.67214460</td>\n        <td>61</td>\n        <td>NEW CITY</td>\n        <td>20</td>\n        <td>9</td>\n        <td>(41.8097569, -87.6721446)</td>\n    </tr>\n    <tr>\n        <td>610513</td>\n        <td>Air Force Academy High School</td>\n        <td>HS</td>\n        <td>3630 S Wells St</td>\n        <td>Chicago</td>\n        <td>IL</td>\n        <td>60609</td>\n        <td>(773) 535-1590</td>\n        <td>http://schoolreports.cps.edu/SchoolProgressReport_Eng/Spring2011Eng_610513.pdf</td>\n        <td>Southwest Side High School Network</td>\n        <td>SOUTHWEST SIDE COLLABORATIVE</td>\n        <td>NDA</td>\n        <td>Standard</td>\n        <td>Not on Probation</td>\n        <td>Not Enough Data</td>\n        <td>Yes</td>\n        <td>Average</td>\n        <td>49</td>\n        <td>Strong</td>\n        <td>60</td>\n        <td>Strong</td>\n        <td>60</td>\n        <td>Average</td>\n        <td>55</td>\n        <td>Average</td>\n        <td>45</td>\n        <td>Average</td>\n        <td>54</td>\n        <td>Average</td>\n        <td>53</td>\n        <td>Average</td>\n        <td>49</td>\n        <td>93.30%</td>\n        <td>15.6</td>\n        <td>96.90%</td>\n        <td>100.00%</td>\n        <td>NDA</td>\n        <td>NDA</td>\n        <td>NDA</td>\n        <td>NDA</td>\n        <td>NDA</td>\n        <td>NDA</td>\n        <td>NDA</td>\n        <td>NDA</td>\n        <td>NDA</td>\n        <td>NDA</td>\n        <td>NDA</td>\n        <td>NDA</td>\n        <td>None</td>\n        <td>None</td>\n        <td>None</td>\n        <td>None</td>\n        <td>NDA</td>\n        <td>NDA</td>\n        <td>NDA</td>\n        <td>NDA</td>\n        <td>14.6</td>\n        <td>14.8</td>\n        <td>NDA</td>\n        <td>16</td>\n        <td>1.4</td>\n        <td>NDA</td>\n        <td>NDA</td>\n        <td>NDA</td>\n        <td>NDA</td>\n        <td>NDA</td>\n        <td>302</td>\n        <td>40</td>\n        <td>91.8</td>\n        <td>1175177.622</td>\n        <td>1880745.126</td>\n        <td>41.82814609</td>\n        <td>-87.63279369</td>\n        <td>34</td>\n        <td>ARMOUR SQUARE</td>\n        <td>11</td>\n        <td>9</td>\n        <td>(41.82814609, -87.63279369)</td>\n    </tr>\n</table>",
                        "text/plain": "[(610038, 'Abraham Lincoln Elementary School', 'ES', '615 W Kemper Pl', 'Chicago', 'IL', 60614, '(773) 534-5720', 'http://schoolreports.cps.edu/SchoolProgressReport_Eng/Spring2011Eng_610038.pdf', 'Fullerton Elementary Network', 'NORTH-NORTHWEST SIDE COLLABORATIVE', 'No', 'Standard', 'Not on Probation', 'Level 1', 'Yes', 'Very Strong', 99, 'Very Strong', '99', 'Strong', 74, 'Strong', 66, 'Strong', '65', 'Strong', '70', 'Strong', '56', 'Average', '47', '96.00%', Decimal('2.0'), '96.40%', '95.80%', '80.1', '43.3', '89.6', '84.9', '60.7', '62.6', '81.9', '85.2', '52', '62.4', '66.3', '77.9', Decimal('69.7'), Decimal('64.4'), Decimal('0.2'), Decimal('0.9'), 'Yellow', 'Green', '67.1', '54.5', 'NDA', 'NDA', 'NDA', 'NDA', 'NDA', 'NDA', 'NDA', 'NDA', 'NDA', 'NDA', 813, 33, 'NDA', Decimal('1171699.458'), Decimal('1915829.428'), Decimal('41.92449696'), Decimal('-87.64452163'), 7, 'LINCOLN PARK', 43, 18, '(41.92449696, -87.64452163)'),\n (610281, 'Adam Clayton Powell Paideia Community Academy Elementary School', 'ES', '7511 S South Shore Dr', 'Chicago', 'IL', 60649, '(773) 535-6650', 'http://schoolreports.cps.edu/SchoolProgressReport_Eng/Spring2011Eng_610281.pdf', 'Skyway Elementary Network', 'SOUTH SIDE COLLABORATIVE', 'No', 'Track_E', 'Not on Probation', 'Level 1', 'No', 'Average', 54, 'Strong', '66', 'Strong', 74, 'Very Strong', 84, 'Strong', '63', 'Strong', '76', 'Weak', '46', 'Average', '50', '95.60%', Decimal('15.7'), '95.30%', '100.00%', '62.4', '51.7', '21.9', '15.1', '29', '42.8', '38.5', '27.4', '44.8', '42.7', '14.1', '34.4', Decimal('16.8'), Decimal('16.5'), Decimal('0.7'), Decimal('1.4'), 'Green', 'Green', '17.2', '27.3', 'NDA', 'NDA', 'NDA', 'NDA', 'NDA', 'NDA', 'NDA', 'NDA', 'NDA', 'NDA', 521, 46, 'NDA', Decimal('1196129.985'), Decimal('1856209.466'), Decimal('41.76032435'), Decimal('-87.55673627'), 43, 'SOUTH SHORE', 7, 4, '(41.76032435, -87.55673627)'),\n (610185, 'Adlai E Stevenson Elementary School', 'ES', '8010 S Kostner Ave', 'Chicago', 'IL', 60652, '(773) 535-2280', 'http://schoolreports.cps.edu/SchoolProgressReport_Eng/Spring2011Eng_610185.pdf', 'Midway Elementary Network', 'SOUTHWEST SIDE COLLABORATIVE', 'No', 'Standard', 'Not on Probation', 'Level 2', 'No', 'Strong', 61, 'NDA', 'NDA', 'Average', 50, 'Weak', 36, 'NDA', 'NDA', 'NDA', 'NDA', 'Average', '47', 'Weak', '41', '95.70%', Decimal('2.3'), '94.70%', '98.30%', '53.7', '26.6', '38.3', '34.7', '43.7', '57.3', '48.8', '39.2', '46.8', '44', '7.5', '21.9', Decimal('18.3'), Decimal('15.5'), Decimal('-0.9'), Decimal('-1.0'), 'Red', 'Red', 'NDA', 'NDA', 'NDA', 'NDA', 'NDA', 'NDA', 'NDA', 'NDA', 'NDA', 'NDA', 'NDA', 'NDA', 1324, 44, 'NDA', Decimal('1148427.165'), Decimal('1851012.215'), Decimal('41.74711093'), Decimal('-87.73170248'), 70, 'ASHBURN', 13, 8, '(41.74711093, -87.73170248)'),\n (609993, 'Agustin Lara Elementary Academy', 'ES', '4619 S Wolcott Ave', 'Chicago', 'IL', 60609, '(773) 535-4389', 'http://schoolreports.cps.edu/SchoolProgressReport_Eng/Spring2011Eng_609993.pdf', 'Pershing Elementary Network', 'SOUTHWEST SIDE COLLABORATIVE', 'No', 'Track_E', 'Not on Probation', 'Level 1', 'No', 'Average', 56, 'Average', '44', 'Average', 45, 'Weak', 37, 'Strong', '65', 'Average', '48', 'Average', '53', 'Strong', '58', '95.50%', Decimal('10.4'), '95.80%', '100.00%', '76.9', 'NDA', '26', '24.7', '61.8', '49.7', '39.2', '27.2', '69.7', '60.6', '9.1', '18.2', Decimal('11.1'), Decimal('9.6'), Decimal('0.9'), Decimal('2.4'), 'Green', 'Green', '42.9', '25', 'NDA', 'NDA', 'NDA', 'NDA', 'NDA', 'NDA', 'NDA', 'NDA', 'NDA', 'NDA', 556, 42, 'NDA', Decimal('1164504.290'), Decimal('1873959.199'), Decimal('41.80975690'), Decimal('-87.67214460'), 61, 'NEW CITY', 20, 9, '(41.8097569, -87.6721446)'),\n (610513, 'Air Force Academy High School', 'HS', '3630 S Wells St', 'Chicago', 'IL', 60609, '(773) 535-1590', 'http://schoolreports.cps.edu/SchoolProgressReport_Eng/Spring2011Eng_610513.pdf', 'Southwest Side High School Network', 'SOUTHWEST SIDE COLLABORATIVE', 'NDA', 'Standard', 'Not on Probation', 'Not Enough Data', 'Yes', 'Average', 49, 'Strong', '60', 'Strong', 60, 'Average', 55, 'Average', '45', 'Average', '54', 'Average', '53', 'Average', '49', '93.30%', Decimal('15.6'), '96.90%', '100.00%', 'NDA', 'NDA', 'NDA', 'NDA', 'NDA', 'NDA', 'NDA', 'NDA', 'NDA', 'NDA', 'NDA', 'NDA', None, None, None, None, 'NDA', 'NDA', 'NDA', 'NDA', '14.6', '14.8', 'NDA', '16', '1.4', 'NDA', 'NDA', 'NDA', 'NDA', 'NDA', 302, 40, '91.8', Decimal('1175177.622'), Decimal('1880745.126'), Decimal('41.82814609'), Decimal('-87.63279369'), 34, 'ARMOUR SQUARE', 11, 9, '(41.82814609, -87.63279369)')]"
                    },
                    "execution_count": 27,
                    "metadata": {},
                    "output_type": "execute_result"
                }
            ],
            "source": "%sql select * from CHICAGO limit 5;"
        },
        {
            "cell_type": "markdown",
            "metadata": {},
            "source": "## Problems\n\n### Problem 1\n\n##### How many Elementary Schools are in the dataset?\n"
        },
        {
            "cell_type": "code",
            "execution_count": 31,
            "metadata": {},
            "outputs": [
                {
                    "name": "stdout",
                    "output_type": "stream",
                    "text": " * ibm_db_sa://ppz81225:***@dashdb-txn-sbox-yp-dal09-04.services.dal.bluemix.net:50000/BLUDB\nDone.\n"
                },
                {
                    "data": {
                        "text/html": "<table>\n    <tr>\n        <th>1</th>\n    </tr>\n    <tr>\n        <td>462</td>\n    </tr>\n</table>",
                        "text/plain": "[(Decimal('462'),)]"
                    },
                    "execution_count": 31,
                    "metadata": {},
                    "output_type": "execute_result"
                }
            ],
            "source": "%sql select count(*) from CHICAGO \\\nwhere \"Elementary, Middle, or High School\" = 'ES';"
        },
        {
            "cell_type": "markdown",
            "metadata": {},
            "source": "### Problem 2\n\n##### What is the highest Safety Score?\n"
        },
        {
            "cell_type": "code",
            "execution_count": 32,
            "metadata": {},
            "outputs": [
                {
                    "name": "stdout",
                    "output_type": "stream",
                    "text": " * ibm_db_sa://ppz81225:***@dashdb-txn-sbox-yp-dal09-04.services.dal.bluemix.net:50000/BLUDB\nDone.\n"
                },
                {
                    "data": {
                        "text/html": "<table>\n    <tr>\n        <th>1</th>\n    </tr>\n    <tr>\n        <td>99</td>\n    </tr>\n</table>",
                        "text/plain": "[(99,)]"
                    },
                    "execution_count": 32,
                    "metadata": {},
                    "output_type": "execute_result"
                }
            ],
            "source": "%sql select max(safety_score) from CHICAGO;"
        },
        {
            "cell_type": "markdown",
            "metadata": {},
            "source": "### Problem 3\n\n##### Which schools have highest Safety Score?\n"
        },
        {
            "cell_type": "code",
            "execution_count": 35,
            "metadata": {},
            "outputs": [
                {
                    "name": "stdout",
                    "output_type": "stream",
                    "text": " * ibm_db_sa://ppz81225:***@dashdb-txn-sbox-yp-dal09-04.services.dal.bluemix.net:50000/BLUDB\nDone.\n"
                },
                {
                    "data": {
                        "text/html": "<table>\n    <tr>\n        <th>name_of_school</th>\n    </tr>\n    <tr>\n        <td>Abraham Lincoln Elementary School</td>\n    </tr>\n    <tr>\n        <td>Alexander Graham Bell Elementary School</td>\n    </tr>\n    <tr>\n        <td>Annie Keller Elementary Gifted Magnet School</td>\n    </tr>\n    <tr>\n        <td>Augustus H Burley Elementary School</td>\n    </tr>\n    <tr>\n        <td>Edgar Allan Poe Elementary Classical School</td>\n    </tr>\n    <tr>\n        <td>Edgebrook Elementary School</td>\n    </tr>\n    <tr>\n        <td>Ellen Mitchell Elementary School</td>\n    </tr>\n    <tr>\n        <td>James E McDade Elementary Classical School</td>\n    </tr>\n    <tr>\n        <td>James G Blaine Elementary School</td>\n    </tr>\n    <tr>\n        <td>LaSalle Elementary Language Academy</td>\n    </tr>\n    <tr>\n        <td>Mary E Courtenay Elementary Language Arts Center</td>\n    </tr>\n    <tr>\n        <td>Northside College Preparatory High School</td>\n    </tr>\n    <tr>\n        <td>Northside Learning Center High School</td>\n    </tr>\n    <tr>\n        <td>Norwood Park Elementary School</td>\n    </tr>\n    <tr>\n        <td>Oriole Park Elementary School</td>\n    </tr>\n    <tr>\n        <td>Sauganash Elementary School</td>\n    </tr>\n    <tr>\n        <td>Stephen Decatur Classical Elementary School</td>\n    </tr>\n    <tr>\n        <td>Talman Elementary School</td>\n    </tr>\n    <tr>\n        <td>Wildwood Elementary School</td>\n    </tr>\n</table>",
                        "text/plain": "[('Abraham Lincoln Elementary School',),\n ('Alexander Graham Bell Elementary School',),\n ('Annie Keller Elementary Gifted Magnet School',),\n ('Augustus H Burley Elementary School',),\n ('Edgar Allan Poe Elementary Classical School',),\n ('Edgebrook Elementary School',),\n ('Ellen Mitchell Elementary School',),\n ('James E McDade Elementary Classical School',),\n ('James G Blaine Elementary School',),\n ('LaSalle Elementary Language Academy',),\n ('Mary E Courtenay Elementary Language Arts Center',),\n ('Northside College Preparatory High School',),\n ('Northside Learning Center High School',),\n ('Norwood Park Elementary School',),\n ('Oriole Park Elementary School',),\n ('Sauganash Elementary School',),\n ('Stephen Decatur Classical Elementary School',),\n ('Talman Elementary School',),\n ('Wildwood Elementary School',)]"
                    },
                    "execution_count": 35,
                    "metadata": {},
                    "output_type": "execute_result"
                }
            ],
            "source": "%sql select name_of_school from CHICAGO \\\nwhere safety_score = (select max(safety_score) from CHICAGO);\n"
        },
        {
            "cell_type": "markdown",
            "metadata": {},
            "source": "### Problem 4\n\n##### What are the top 10 schools with the highest \"Average Student Attendance\"?\n"
        },
        {
            "cell_type": "code",
            "execution_count": 39,
            "metadata": {},
            "outputs": [
                {
                    "name": "stdout",
                    "output_type": "stream",
                    "text": " * ibm_db_sa://ppz81225:***@dashdb-txn-sbox-yp-dal09-04.services.dal.bluemix.net:50000/BLUDB\nDone.\n"
                },
                {
                    "data": {
                        "text/html": "<table>\n    <tr>\n        <th>name_of_school</th>\n    </tr>\n    <tr>\n        <td>Velma F Thomas Early Childhood Center</td>\n    </tr>\n    <tr>\n        <td>John Charles Haines Elementary School</td>\n    </tr>\n    <tr>\n        <td>James Ward Elementary School</td>\n    </tr>\n    <tr>\n        <td>Edgar Allan Poe Elementary Classical School</td>\n    </tr>\n    <tr>\n        <td>Rachel Carson Elementary School</td>\n    </tr>\n    <tr>\n        <td>Orozco Fine Arts &amp; Sciences Elementary School</td>\n    </tr>\n    <tr>\n        <td>Annie Keller Elementary Gifted Magnet School</td>\n    </tr>\n    <tr>\n        <td>Andrew Jackson Elementary Language Academy</td>\n    </tr>\n    <tr>\n        <td>Lenart Elementary Regional Gifted Center</td>\n    </tr>\n    <tr>\n        <td>Disney II Magnet School</td>\n    </tr>\n</table>",
                        "text/plain": "[('Velma F Thomas Early Childhood Center',),\n ('John Charles Haines Elementary School',),\n ('James Ward Elementary School',),\n ('Edgar Allan Poe Elementary Classical School',),\n ('Rachel Carson Elementary School',),\n ('Orozco Fine Arts & Sciences Elementary School',),\n ('Annie Keller Elementary Gifted Magnet School',),\n ('Andrew Jackson Elementary Language Academy',),\n ('Lenart Elementary Regional Gifted Center',),\n ('Disney II Magnet School',)]"
                    },
                    "execution_count": 39,
                    "metadata": {},
                    "output_type": "execute_result"
                }
            ],
            "source": "%sql select name_of_school from CHICAGO \\\norder by average_student_attendance desc \\\nlimit 10;"
        },
        {
            "cell_type": "markdown",
            "metadata": {},
            "source": "### Problem 5\n\n##### Retrieve the list of 5 Schools with the lowest Average Student Attendance sorted in ascending order based on attendance\n"
        },
        {
            "cell_type": "code",
            "execution_count": 43,
            "metadata": {},
            "outputs": [
                {
                    "name": "stdout",
                    "output_type": "stream",
                    "text": " * ibm_db_sa://ppz81225:***@dashdb-txn-sbox-yp-dal09-04.services.dal.bluemix.net:50000/BLUDB\nDone.\n"
                },
                {
                    "data": {
                        "text/html": "<table>\n    <tr>\n        <th>name_of_school</th>\n        <th>average_student_attendance</th>\n    </tr>\n    <tr>\n        <td>Richard T Crane Technical Preparatory High School</td>\n        <td>57.90%</td>\n    </tr>\n    <tr>\n        <td>Barbara Vick Early Childhood &amp; Family Center</td>\n        <td>60.90%</td>\n    </tr>\n    <tr>\n        <td>Dyett High School</td>\n        <td>62.50%</td>\n    </tr>\n    <tr>\n        <td>Wendell Phillips Academy High School</td>\n        <td>63.00%</td>\n    </tr>\n    <tr>\n        <td>Orr Academy High School</td>\n        <td>66.30%</td>\n    </tr>\n</table>",
                        "text/plain": "[('Richard T Crane Technical Preparatory High School', '57.90%'),\n ('Barbara Vick Early Childhood & Family Center', '60.90%'),\n ('Dyett High School', '62.50%'),\n ('Wendell Phillips Academy High School', '63.00%'),\n ('Orr Academy High School', '66.30%')]"
                    },
                    "execution_count": 43,
                    "metadata": {},
                    "output_type": "execute_result"
                }
            ],
            "source": "%sql select name_of_school, average_student_attendance from CHICAGO \\\norder by average_student_attendance \\\nlimit 5;"
        },
        {
            "cell_type": "markdown",
            "metadata": {},
            "source": "### Problem 6\n\n##### Now remove the '%' sign from the above result set for Average Student Attendance column\n"
        },
        {
            "cell_type": "code",
            "execution_count": 45,
            "metadata": {},
            "outputs": [
                {
                    "name": "stdout",
                    "output_type": "stream",
                    "text": " * ibm_db_sa://ppz81225:***@dashdb-txn-sbox-yp-dal09-04.services.dal.bluemix.net:50000/BLUDB\nDone.\n"
                },
                {
                    "data": {
                        "text/html": "<table>\n    <tr>\n        <th>name_of_school</th>\n        <th>2</th>\n    </tr>\n    <tr>\n        <td>Richard T Crane Technical Preparatory High School</td>\n        <td>57.90</td>\n    </tr>\n    <tr>\n        <td>Barbara Vick Early Childhood &amp; Family Center</td>\n        <td>60.90</td>\n    </tr>\n    <tr>\n        <td>Dyett High School</td>\n        <td>62.50</td>\n    </tr>\n    <tr>\n        <td>Wendell Phillips Academy High School</td>\n        <td>63.00</td>\n    </tr>\n    <tr>\n        <td>Orr Academy High School</td>\n        <td>66.30</td>\n    </tr>\n</table>",
                        "text/plain": "[('Richard T Crane Technical Preparatory High School', '57.90'),\n ('Barbara Vick Early Childhood & Family Center', '60.90'),\n ('Dyett High School', '62.50'),\n ('Wendell Phillips Academy High School', '63.00'),\n ('Orr Academy High School', '66.30')]"
                    },
                    "execution_count": 45,
                    "metadata": {},
                    "output_type": "execute_result"
                }
            ],
            "source": "%sql select name_of_school, replace(average_student_attendance, '%', '')from CHICAGO \\\norder by average_student_attendance \\\nlimit 5;"
        },
        {
            "cell_type": "markdown",
            "metadata": {},
            "source": "**Notiz: replace(average_student_attendance, '%', '') zum L\u00f6schen von Zeichen aus einem Result Set**"
        },
        {
            "cell_type": "markdown",
            "metadata": {},
            "source": "### Problem 7\n\n##### Which Schools have Average Student Attendance lower than 70%?\n"
        },
        {
            "cell_type": "code",
            "execution_count": 53,
            "metadata": {},
            "outputs": [
                {
                    "name": "stdout",
                    "output_type": "stream",
                    "text": " * ibm_db_sa://ppz81225:***@dashdb-txn-sbox-yp-dal09-04.services.dal.bluemix.net:50000/BLUDB\nDone.\n"
                },
                {
                    "data": {
                        "text/html": "<table>\n    <tr>\n        <th>name_of_school</th>\n    </tr>\n    <tr>\n        <td>Barbara Vick Early Childhood &amp; Family Center</td>\n    </tr>\n    <tr>\n        <td>Chicago Vocational Career Academy High School</td>\n    </tr>\n    <tr>\n        <td>Dyett High School</td>\n    </tr>\n    <tr>\n        <td>Manley Career Academy High School</td>\n    </tr>\n    <tr>\n        <td>Orr Academy High School</td>\n    </tr>\n    <tr>\n        <td>Richard T Crane Technical Preparatory High School</td>\n    </tr>\n    <tr>\n        <td>Roberto Clemente Community Academy High School</td>\n    </tr>\n    <tr>\n        <td>Wendell Phillips Academy High School</td>\n    </tr>\n</table>",
                        "text/plain": "[('Barbara Vick Early Childhood & Family Center',),\n ('Chicago Vocational Career Academy High School',),\n ('Dyett High School',),\n ('Manley Career Academy High School',),\n ('Orr Academy High School',),\n ('Richard T Crane Technical Preparatory High School',),\n ('Roberto Clemente Community Academy High School',),\n ('Wendell Phillips Academy High School',)]"
                    },
                    "execution_count": 53,
                    "metadata": {},
                    "output_type": "execute_result"
                }
            ],
            "source": "%sql select name_of_school from CHICAGO \\\nwhere decimal(replace(average_student_attendance, '%','')) < 70.00 ;\n              \n"
        },
        {
            "cell_type": "markdown",
            "metadata": {},
            "source": "### Problem 8\n\n##### Get the total College Enrollment for each Community Area\n"
        },
        {
            "cell_type": "code",
            "execution_count": 64,
            "metadata": {},
            "outputs": [
                {
                    "name": "stdout",
                    "output_type": "stream",
                    "text": " * ibm_db_sa://ppz81225:***@dashdb-txn-sbox-yp-dal09-04.services.dal.bluemix.net:50000/BLUDB\nDone.\n"
                },
                {
                    "data": {
                        "text/html": "<table>\n    <tr>\n        <th>community_area_name</th>\n        <th>total_enrollment</th>\n    </tr>\n    <tr>\n        <td>ALBANY PARK</td>\n        <td>6864</td>\n    </tr>\n    <tr>\n        <td>ARCHER HEIGHTS</td>\n        <td>4823</td>\n    </tr>\n    <tr>\n        <td>ARMOUR SQUARE</td>\n        <td>1458</td>\n    </tr>\n    <tr>\n        <td>ASHBURN</td>\n        <td>6483</td>\n    </tr>\n    <tr>\n        <td>AUBURN GRESHAM</td>\n        <td>4175</td>\n    </tr>\n    <tr>\n        <td>AUSTIN</td>\n        <td>10933</td>\n    </tr>\n    <tr>\n        <td>AVALON PARK</td>\n        <td>1522</td>\n    </tr>\n    <tr>\n        <td>AVONDALE</td>\n        <td>3640</td>\n    </tr>\n    <tr>\n        <td>BELMONT CRAGIN</td>\n        <td>14386</td>\n    </tr>\n    <tr>\n        <td>BEVERLY</td>\n        <td>1636</td>\n    </tr>\n    <tr>\n        <td>BRIDGEPORT</td>\n        <td>3167</td>\n    </tr>\n    <tr>\n        <td>BRIGHTON PARK</td>\n        <td>9647</td>\n    </tr>\n    <tr>\n        <td>BURNSIDE</td>\n        <td>549</td>\n    </tr>\n    <tr>\n        <td>CALUMET HEIGHTS</td>\n        <td>1568</td>\n    </tr>\n    <tr>\n        <td>CHATHAM</td>\n        <td>5042</td>\n    </tr>\n    <tr>\n        <td>CHICAGO LAWN</td>\n        <td>7086</td>\n    </tr>\n    <tr>\n        <td>CLEARING</td>\n        <td>2085</td>\n    </tr>\n    <tr>\n        <td>DOUGLAS</td>\n        <td>4670</td>\n    </tr>\n    <tr>\n        <td>DUNNING</td>\n        <td>4568</td>\n    </tr>\n    <tr>\n        <td>EAST GARFIELD PARK</td>\n        <td>5337</td>\n    </tr>\n    <tr>\n        <td>EAST SIDE</td>\n        <td>5305</td>\n    </tr>\n    <tr>\n        <td>EDGEWATER</td>\n        <td>4600</td>\n    </tr>\n    <tr>\n        <td>EDISON PARK</td>\n        <td>910</td>\n    </tr>\n    <tr>\n        <td>ENGLEWOOD</td>\n        <td>6832</td>\n    </tr>\n    <tr>\n        <td>FOREST GLEN</td>\n        <td>1431</td>\n    </tr>\n    <tr>\n        <td>FULLER PARK</td>\n        <td>531</td>\n    </tr>\n    <tr>\n        <td>GAGE PARK</td>\n        <td>9915</td>\n    </tr>\n    <tr>\n        <td>GARFIELD RIDGE</td>\n        <td>4552</td>\n    </tr>\n    <tr>\n        <td>GRAND BOULEVARD</td>\n        <td>2809</td>\n    </tr>\n    <tr>\n        <td>GREATER GRAND CROSSING</td>\n        <td>4051</td>\n    </tr>\n    <tr>\n        <td>HEGEWISCH</td>\n        <td>963</td>\n    </tr>\n    <tr>\n        <td>HERMOSA</td>\n        <td>3975</td>\n    </tr>\n    <tr>\n        <td>HUMBOLDT PARK</td>\n        <td>8620</td>\n    </tr>\n    <tr>\n        <td>HYDE PARK</td>\n        <td>1930</td>\n    </tr>\n    <tr>\n        <td>IRVING PARK</td>\n        <td>7764</td>\n    </tr>\n    <tr>\n        <td>JEFFERSON PARK</td>\n        <td>1755</td>\n    </tr>\n    <tr>\n        <td>KENWOOD</td>\n        <td>4287</td>\n    </tr>\n    <tr>\n        <td>LAKE VIEW</td>\n        <td>7055</td>\n    </tr>\n    <tr>\n        <td>LINCOLN PARK</td>\n        <td>5615</td>\n    </tr>\n    <tr>\n        <td>LINCOLN SQUARE</td>\n        <td>4132</td>\n    </tr>\n    <tr>\n        <td>LOGAN SQUARE</td>\n        <td>7351</td>\n    </tr>\n    <tr>\n        <td>LOOP</td>\n        <td>871</td>\n    </tr>\n    <tr>\n        <td>LOWER WEST SIDE</td>\n        <td>7257</td>\n    </tr>\n    <tr>\n        <td>MCKINLEY PARK</td>\n        <td>1552</td>\n    </tr>\n    <tr>\n        <td>MONTCLARE</td>\n        <td>1317</td>\n    </tr>\n    <tr>\n        <td>MORGAN PARK</td>\n        <td>3271</td>\n    </tr>\n    <tr>\n        <td>MOUNT GREENWOOD</td>\n        <td>2091</td>\n    </tr>\n    <tr>\n        <td>NEAR NORTH SIDE</td>\n        <td>3362</td>\n    </tr>\n    <tr>\n        <td>NEAR SOUTH SIDE</td>\n        <td>1378</td>\n    </tr>\n    <tr>\n        <td>NEAR WEST SIDE</td>\n        <td>7975</td>\n    </tr>\n    <tr>\n        <td>NEW CITY</td>\n        <td>7922</td>\n    </tr>\n    <tr>\n        <td>NORTH CENTER</td>\n        <td>7541</td>\n    </tr>\n    <tr>\n        <td>NORTH LAWNDALE</td>\n        <td>5146</td>\n    </tr>\n    <tr>\n        <td>NORTH PARK</td>\n        <td>4210</td>\n    </tr>\n    <tr>\n        <td>NORWOOD PARK</td>\n        <td>6469</td>\n    </tr>\n    <tr>\n        <td>OAKLAND</td>\n        <td>140</td>\n    </tr>\n    <tr>\n        <td>OHARE</td>\n        <td>786</td>\n    </tr>\n    <tr>\n        <td>PORTAGE PARK</td>\n        <td>6954</td>\n    </tr>\n    <tr>\n        <td>PULLMAN</td>\n        <td>1620</td>\n    </tr>\n    <tr>\n        <td>RIVERDALE</td>\n        <td>1547</td>\n    </tr>\n    <tr>\n        <td>ROGERS PARK</td>\n        <td>4068</td>\n    </tr>\n    <tr>\n        <td>ROSELAND</td>\n        <td>7020</td>\n    </tr>\n    <tr>\n        <td>SOUTH CHICAGO</td>\n        <td>4043</td>\n    </tr>\n    <tr>\n        <td>SOUTH DEERING</td>\n        <td>1859</td>\n    </tr>\n    <tr>\n        <td>SOUTH LAWNDALE</td>\n        <td>14793</td>\n    </tr>\n    <tr>\n        <td>SOUTH SHORE</td>\n        <td>4543</td>\n    </tr>\n    <tr>\n        <td>UPTOWN</td>\n        <td>4388</td>\n    </tr>\n    <tr>\n        <td>WASHINGTON HEIGHTS</td>\n        <td>4006</td>\n    </tr>\n    <tr>\n        <td>WASHINGTON PARK</td>\n        <td>2648</td>\n    </tr>\n    <tr>\n        <td>WEST ELSDON</td>\n        <td>3700</td>\n    </tr>\n    <tr>\n        <td>WEST ENGLEWOOD</td>\n        <td>5946</td>\n    </tr>\n    <tr>\n        <td>WEST GARFIELD PARK</td>\n        <td>2622</td>\n    </tr>\n    <tr>\n        <td>WEST LAWN</td>\n        <td>4207</td>\n    </tr>\n    <tr>\n        <td>WEST PULLMAN</td>\n        <td>3240</td>\n    </tr>\n    <tr>\n        <td>WEST RIDGE</td>\n        <td>8197</td>\n    </tr>\n    <tr>\n        <td>WEST TOWN</td>\n        <td>9429</td>\n    </tr>\n    <tr>\n        <td>WOODLAWN</td>\n        <td>4206</td>\n    </tr>\n</table>",
                        "text/plain": "[('ALBANY PARK', 6864),\n ('ARCHER HEIGHTS', 4823),\n ('ARMOUR SQUARE', 1458),\n ('ASHBURN', 6483),\n ('AUBURN GRESHAM', 4175),\n ('AUSTIN', 10933),\n ('AVALON PARK', 1522),\n ('AVONDALE', 3640),\n ('BELMONT CRAGIN', 14386),\n ('BEVERLY', 1636),\n ('BRIDGEPORT', 3167),\n ('BRIGHTON PARK', 9647),\n ('BURNSIDE', 549),\n ('CALUMET HEIGHTS', 1568),\n ('CHATHAM', 5042),\n ('CHICAGO LAWN', 7086),\n ('CLEARING', 2085),\n ('DOUGLAS', 4670),\n ('DUNNING', 4568),\n ('EAST GARFIELD PARK', 5337),\n ('EAST SIDE', 5305),\n ('EDGEWATER', 4600),\n ('EDISON PARK', 910),\n ('ENGLEWOOD', 6832),\n ('FOREST GLEN', 1431),\n ('FULLER PARK', 531),\n ('GAGE PARK', 9915),\n ('GARFIELD RIDGE', 4552),\n ('GRAND BOULEVARD', 2809),\n ('GREATER GRAND CROSSING', 4051),\n ('HEGEWISCH', 963),\n ('HERMOSA', 3975),\n ('HUMBOLDT PARK', 8620),\n ('HYDE PARK', 1930),\n ('IRVING PARK', 7764),\n ('JEFFERSON PARK', 1755),\n ('KENWOOD', 4287),\n ('LAKE VIEW', 7055),\n ('LINCOLN PARK', 5615),\n ('LINCOLN SQUARE', 4132),\n ('LOGAN SQUARE', 7351),\n ('LOOP', 871),\n ('LOWER WEST SIDE', 7257),\n ('MCKINLEY PARK', 1552),\n ('MONTCLARE', 1317),\n ('MORGAN PARK', 3271),\n ('MOUNT GREENWOOD', 2091),\n ('NEAR NORTH SIDE', 3362),\n ('NEAR SOUTH SIDE', 1378),\n ('NEAR WEST SIDE', 7975),\n ('NEW CITY', 7922),\n ('NORTH CENTER', 7541),\n ('NORTH LAWNDALE', 5146),\n ('NORTH PARK', 4210),\n ('NORWOOD PARK', 6469),\n ('OAKLAND', 140),\n ('OHARE', 786),\n ('PORTAGE PARK', 6954),\n ('PULLMAN', 1620),\n ('RIVERDALE', 1547),\n ('ROGERS PARK', 4068),\n ('ROSELAND', 7020),\n ('SOUTH CHICAGO', 4043),\n ('SOUTH DEERING', 1859),\n ('SOUTH LAWNDALE', 14793),\n ('SOUTH SHORE', 4543),\n ('UPTOWN', 4388),\n ('WASHINGTON HEIGHTS', 4006),\n ('WASHINGTON PARK', 2648),\n ('WEST ELSDON', 3700),\n ('WEST ENGLEWOOD', 5946),\n ('WEST GARFIELD PARK', 2622),\n ('WEST LAWN', 4207),\n ('WEST PULLMAN', 3240),\n ('WEST RIDGE', 8197),\n ('WEST TOWN', 9429),\n ('WOODLAWN', 4206)]"
                    },
                    "execution_count": 64,
                    "metadata": {},
                    "output_type": "execute_result"
                }
            ],
            "source": "%sql select COMMUNITY_AREA_NAME, sum(COLLEGE_ENROLLMENT) as TOTAL_ENROLLMENT from CHICAGO \\\ngroup by COMMUNITY_AREA_NAME; "
        },
        {
            "cell_type": "markdown",
            "metadata": {},
            "source": "### Problem 9\n\n##### Get the 5 Community Areas with the least total College Enrollment  sorted in ascending order\n"
        },
        {
            "cell_type": "code",
            "execution_count": 164,
            "metadata": {},
            "outputs": [
                {
                    "name": "stdout",
                    "output_type": "stream",
                    "text": " * ibm_db_sa://ppz81225:***@dashdb-txn-sbox-yp-dal09-04.services.dal.bluemix.net:50000/BLUDB\nDone.\n"
                },
                {
                    "data": {
                        "text/html": "<table>\n    <tr>\n        <th>community_area_name</th>\n        <th>total_enrollment</th>\n    </tr>\n    <tr>\n        <td>SOUTH LAWNDALE</td>\n        <td>14793</td>\n    </tr>\n    <tr>\n        <td>BELMONT CRAGIN</td>\n        <td>14386</td>\n    </tr>\n    <tr>\n        <td>AUSTIN</td>\n        <td>10933</td>\n    </tr>\n    <tr>\n        <td>GAGE PARK</td>\n        <td>9915</td>\n    </tr>\n    <tr>\n        <td>BRIGHTON PARK</td>\n        <td>9647</td>\n    </tr>\n</table>",
                        "text/plain": "[('SOUTH LAWNDALE', 14793),\n ('BELMONT CRAGIN', 14386),\n ('AUSTIN', 10933),\n ('GAGE PARK', 9915),\n ('BRIGHTON PARK', 9647)]"
                    },
                    "execution_count": 164,
                    "metadata": {},
                    "output_type": "execute_result"
                }
            ],
            "source": "%sql select COMMUNITY_AREA_NAME, sum(COLLEGE_ENROLLMENT) as TOTAL_ENROLLMENT from CHICAGO \\\ngroup by COMMUNITY_AREA_NAME \\\norder by sum(COLLEGE_ENROLLMENT) desc\\\nlimit 5; "
        },
        {
            "cell_type": "markdown",
            "metadata": {},
            "source": "### Problem 10\n\n##### Get the hardship index for the community area which has College Enrollment of 4368\n"
        },
        {
            "cell_type": "code",
            "execution_count": 78,
            "metadata": {},
            "outputs": [
                {
                    "name": "stdout",
                    "output_type": "stream",
                    "text": " * ibm_db_sa://ppz81225:***@dashdb-txn-sbox-yp-dal09-04.services.dal.bluemix.net:50000/BLUDB\nDone.\n"
                },
                {
                    "data": {
                        "text/html": "<table>\n    <tr>\n        <th>hardship_index</th>\n    </tr>\n    <tr>\n        <td>6.0</td>\n    </tr>\n</table>",
                        "text/plain": "[(6.0,)]"
                    },
                    "execution_count": 78,
                    "metadata": {},
                    "output_type": "execute_result"
                }
            ],
            "source": "%sql select hardship_index from csd CD, CHICAGO C \\\nwhere CD.ca = C.community_area_number\\\nand college_enrollment = 4368;"
        },
        {
            "cell_type": "markdown",
            "metadata": {},
            "source": "### Problem 11\n\n##### Get the hardship index for the community area which has the highest value for College Enrollment\n"
        },
        {
            "cell_type": "code",
            "execution_count": 181,
            "metadata": {},
            "outputs": [
                {
                    "name": "stdout",
                    "output_type": "stream",
                    "text": " * ibm_db_sa://ppz81225:***@dashdb-txn-sbox-yp-dal09-04.services.dal.bluemix.net:50000/BLUDB\nDone.\n"
                },
                {
                    "data": {
                        "text/html": "<table>\n    <tr>\n        <th>hardship_index</th>\n        <th>community_area_name</th>\n    </tr>\n    <tr>\n        <td>6.0</td>\n        <td>NORTH CENTER</td>\n    </tr>\n</table>",
                        "text/plain": "[(6.0, 'NORTH CENTER')]"
                    },
                    "execution_count": 181,
                    "metadata": {},
                    "output_type": "execute_result"
                }
            ],
            "source": "%sql select CD.hardship_index, C.community_area_name from csd CD, CHICAGO C \\\nwhere CD.ca = C.community_area_number\\\nand C.college_enrollment = (select max(college_enrollment) from CHICAGO);"
        },
        {
            "cell_type": "markdown",
            "metadata": {},
            "source": "## Summary\n\n##### In this lab you demonstrated how to work with a real word dataset using SQL and Python. You showed how to query columns with spaces or special characters in their names and with mixed case names. You also used built in database functions and practiced how to sort, limit, and order result sets, as well as used sub-queries and worked with multiple tables.\n"
        },
        {
            "cell_type": "markdown",
            "metadata": {},
            "source": "## Teacher\n\n<a href=\"https://www.linkedin.com/in/ravahuja/\" target=\"_blank\">Rav Ahuja</a>\n\n## Change Log\n\n| Date (YYYY-MM-DD) | Version | Changed By | Change Description                 |\n| ----------------- | ------- | ---------- | ---------------------------------- |\n| 2020-08-28        | 2.0     | Lavanya    | Moved lab to course repo in GitLab |\n\n<hr>\n\n## <h3 align=\"center\"> \u00a9 IBM Corporation 2020. All rights reserved. <h3/>\n"
        }
    ],
    "metadata": {
        "kernelspec": {
            "display_name": "Python 3.6",
            "language": "python",
            "name": "python3"
        },
        "language_info": {
            "codemirror_mode": {
                "name": "ipython",
                "version": 3
            },
            "file_extension": ".py",
            "mimetype": "text/x-python",
            "name": "python",
            "nbconvert_exporter": "python",
            "pygments_lexer": "ipython3",
            "version": "3.6.9"
        },
        "widgets": {
            "state": {},
            "version": "1.1.2"
        }
    },
    "nbformat": 4,
    "nbformat_minor": 2
}